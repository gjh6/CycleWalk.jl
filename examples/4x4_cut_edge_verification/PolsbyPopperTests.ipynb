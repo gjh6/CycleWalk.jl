{
 "cells": [
  {
   "cell_type": "code",
   "execution_count": 1,
   "metadata": {},
   "outputs": [
    {
     "name": "stderr",
     "output_type": "stream",
     "text": [
      "\u001b[32m\u001b[1m  Activating\u001b[22m\u001b[39m project at `~/.julia/environments/mcmc_redistricting`\n"
     ]
    }
   ],
   "source": [
    "import Pkg\n",
    "push!(LOAD_PATH, \"../../\");\n",
    "Pkg.activate(\"mcmc_redistricting\", shared=true)\n",
    "\n",
    "using Revise\n",
    "using RandomNumbers\n",
    "using LiftedTreeWalk"
   ]
  },
  {
   "cell_type": "code",
   "execution_count": 2,
   "metadata": {},
   "outputs": [],
   "source": [
    "pctGraphPath = joinpath(\".\", \"4x4.json\")\n",
    "precinct_name = \"precinct\"\n",
    "county_name = \"county\"\n",
    "population_col = \"TOTPOP\"\n",
    "num_dists = 4\n",
    "rng_seed = 454190\n",
    "pop_dev = 0.0\n",
    "cycle_walk_frac = 0.01\n",
    "steps = 100000/cycle_walk_frac\n",
    "edge_len= \"length\"\n",
    "edge_weights= \"connections\"\n",
    "boundary_perim = \"boundary_perim\"\n",
    "area_col = \"area\"\n",
    "iso_weight = 0.02\n",
    "\n",
    "nodeData = Set([precinct_name, county_name, population_col, boundary_perim, \n",
    "                area_col])\n",
    "\n",
    "base_graph = BaseGraph(pctGraphPath,  population_col,  \n",
    "                inc_node_data=nodeData, edge_weights=edge_weights,\n",
    "                area_col=area_col, node_border_col=boundary_perim,\n",
    "                edge_perimeter_col=edge_len);"
   ]
  },
  {
   "cell_type": "code",
   "execution_count": 3,
   "metadata": {},
   "outputs": [
    {
     "data": {
      "text/plain": [
       "modify_perims! (generic function with 3 methods)"
      ]
     },
     "metadata": {},
     "output_type": "display_data"
    }
   ],
   "source": [
    "outercorners = Set([(0,1), (2,3), (3,7), (11,15), (14,15), (12,13), (8,12), (0,4)])\n",
    "outermiddle = Set([(1,2), (7,11), (13,14), (4,8)])\n",
    "innermiddle = Set([(5,6), (6,10), (9,10), (5,9)])\n",
    "\n",
    "outercorners = Set([(0,1), (2,3), (3,7), (11,15), (14,15), (12,13), (8,12), (0,4)])\n",
    "outermiddle = Set([(1,2), (7,11), (13,14), (4,8)])\n",
    "innermiddle = Set([(5,6), (6,10), (9,10), (5,9)])\n",
    "\n",
    "function modify_perims!(\n",
    "    base_graph::BaseGraph, \n",
    "    col::String,\n",
    "    weights::Vector{Float64}=Vector{Float64}(undef, 0),\n",
    "    edge_sets::Vector{Set{Tuple{Int64, Int64}}}=\n",
    "        Vector{Set{Tuple{Int64, Int64}}}(undef, 0);\n",
    "    base_weight::Float64=1.0\n",
    ")\n",
    "    for edge in keys(base_graph.edge_attributes)    \n",
    "        e1, e2 = collect(edge).-1\n",
    "        etup = (min(e1, e2), max(e1, e2))\n",
    "        found_huh = false\n",
    "        for (es_ind, es) ∈ enumerate(edge_sets)\n",
    "            if etup ∈ es\n",
    "                base_graph.edge_attributes[edge][col] = weights[es_ind]\n",
    "                found_huh = true\n",
    "                break\n",
    "            end\n",
    "        end\n",
    "        if !found_huh\n",
    "            base_graph.edge_attributes[edge][col] = base_weight\n",
    "        end\n",
    "    end\n",
    "end"
   ]
  },
  {
   "cell_type": "code",
   "execution_count": 4,
   "metadata": {},
   "outputs": [],
   "source": [
    "edge_sets = [outercorners, outermiddle, innermiddle]\n",
    "modify_perims!(base_graph, edge_len, [2.0,2.5,3.0], edge_sets)\n",
    "graph = MultiLevelGraph(base_graph, [precinct_name]);"
   ]
  },
  {
   "cell_type": "code",
   "execution_count": 5,
   "metadata": {},
   "outputs": [
    {
     "name": "stdout",
     "output_type": "stream",
     "text": [
      "(edge, d[edge_len]) = (Set([6, 10]), 3.0)\n",
      "(edge, d[edge_len]) = (Set([5, 9]), 2.5)\n",
      "(edge, d[edge_len]) = (Set([5, 1]), 2.0)\n",
      "(edge, d[edge_len]) = (Set([7, 3]), 1.0)\n",
      "(edge, d[edge_len]) = (Set([13, 9]), 2.0)\n",
      "(edge, d[edge_len]) = (Set([6, 2]), 1.0)\n",
      "(edge, d[edge_len]) = (Set([2, 3]), 2.5)\n",
      "(edge, d[edge_len]) = (Set([11, 12]), 1.0)\n",
      "(edge, d[edge_len]) = (Set([5, 6]), 1.0)\n",
      "(edge, d[edge_len]) = (Set([7, 11]), 3.0)\n",
      "(edge, d[edge_len]) = (Set([16, 12]), 2.0)\n",
      "(edge, d[edge_len]) = (Set([11, 10]), 3.0)\n",
      "(edge, d[edge_len]) = (Set([2, 1]), 2.0)\n",
      "(edge, d[edge_len]) = (Set([7, 8]), 1.0)\n",
      "(edge, d[edge_len]) = (Set([10, 9]), 1.0)\n",
      "(edge, d[edge_len]) = (Set([4, 3]), 2.0)\n",
      "(edge, d[edge_len]) = (Set([6, 7]), 3.0)\n",
      "(edge, d[edge_len]) = (Set([15, 14]), 2.5)\n",
      "(edge, d[edge_len]) = (Set([15, 11]), 1.0)\n",
      "(edge, d[edge_len]) = (Set([12, 8]), 2.5)\n",
      "(edge, d[edge_len]) = (Set([10, 14]), 1.0)\n",
      "(edge, d[edge_len]) = (Set([15, 16]), 2.0)\n",
      "(edge, d[edge_len]) = (Set([13, 14]), 2.0)\n",
      "(edge, d[edge_len]) = (Set([4, 8]), 2.0)\n"
     ]
    }
   ],
   "source": [
    "for (edge, d) in base_graph.edge_attributes\n",
    "    @show edge, d[edge_len]\n",
    "end"
   ]
  },
  {
   "cell_type": "code",
   "execution_count": 6,
   "metadata": {},
   "outputs": [
    {
     "data": {
      "text/plain": [
       "get_cut_edge_list"
      ]
     },
     "metadata": {},
     "output_type": "display_data"
    }
   ],
   "source": [
    "using Graphs, SimpleWeightedGraphs\n",
    "\"\"\"\"\"\"\n",
    "function get_cut_edge_list(\n",
    "    partition::LinkCutPartition;\n",
    "    column::String=\"connections\"\n",
    ")\n",
    "    graph = partition.graph\n",
    "    num_dists = partition.num_dists\n",
    "    raw_data = [zeros(Float64, num_dists) for _ = 1:num_dists]\n",
    "    total = 0\n",
    "    for e in edges(graph.simple_graph)\n",
    "        n1, n2 = src(e), dst(e)\n",
    "        d1, d2 = partition.node_to_dist[n1], partition.node_to_dist[n2]\n",
    "        if d1 == d2\n",
    "            continue\n",
    "        end\n",
    "        w = graph.edge_attributes[Set([n1, n2])][column]\n",
    "        raw_data[d1][d2] += w\n",
    "        raw_data[d2][d1] += w\n",
    "    end\n",
    "    data = Vector(undef, num_dists)\n",
    "    for di = 1:num_dists\n",
    "        ngb_counts = zeros(Float64, 5)\n",
    "        ngb_data = raw_data[di]\n",
    "        for ni = 1:num_dists\n",
    "            ngb_counts[Int(ngb_data[ni])+1] += 1\n",
    "        end\n",
    "        data[di] = Tuple(ngb_counts)\n",
    "    end\n",
    "    \n",
    "    return Set(data)\n",
    "end"
   ]
  },
  {
   "cell_type": "code",
   "execution_count": 7,
   "metadata": {},
   "outputs": [
    {
     "name": "stdout",
     "output_type": "stream",
     "text": [
      "(pi, cut_edges, sum(isoperimetric_scores), orbitsz, lst) = (1, 8, 225.0, 1, Set(Any[(2.0, 0.0, 2.0, 0.0, 0.0)]))\n",
      "(pi, cut_edges, sum(isoperimetric_scores), orbitsz, lst) = (2, 10, 219.625, 8, Set(Any[(1.0, 1.0, 1.0, 0.0, 1.0), (1.0, 2.0, 1.0, 0.0, 0.0), (2.0, 0.0, 2.0, 0.0, 0.0), (2.0, 1.0, 0.0, 0.0, 1.0)]))\n",
      "(pi, cut_edges, sum(isoperimetric_scores), orbitsz, lst) = (3, 10, 238.75, 4, Set(Any[(1.0, 0.0, 2.0, 0.0, 1.0), (2.0, 0.0, 2.0, 0.0, 0.0), (3.0, 0.0, 0.0, 0.0, 1.0)]))\n",
      "(pi, cut_edges, sum(isoperimetric_scores), orbitsz, lst) = (4, 10, 170.0, 2, Set(Any[(1.0, 0.0, 3.0, 0.0, 0.0), (2.0, 0.0, 2.0, 0.0, 0.0)]))\n",
      "(pi, cut_edges, sum(isoperimetric_scores), orbitsz, lst) = (5, 11, 213.0, 8, Set(Any[(2.0, 0.0, 2.0, 0.0, 0.0), (1.0, 1.0, 1.0, 1.0, 0.0), (2.0, 0.0, 0.0, 2.0, 0.0)]))\n",
      "(pi, cut_edges, sum(isoperimetric_scores), orbitsz, lst) = (6, 11, 199.375, 8, Set(Any[(2.0, 1.0, 0.0, 1.0, 0.0), (1.0, 2.0, 0.0, 1.0, 0.0), (1.0, 0.0, 0.0, 3.0, 0.0)]))\n",
      "(pi, cut_edges, sum(isoperimetric_scores), orbitsz, lst) = (7, 11, 213.0, 4, Set(Any[(2.0, 0.0, 2.0, 0.0, 0.0), (1.0, 1.0, 1.0, 1.0, 0.0), (2.0, 0.0, 0.0, 2.0, 0.0)]))\n",
      "(pi, cut_edges, sum(isoperimetric_scores), orbitsz, lst) = (8, 11, 130.125, 4, Set(Any[(1.0, 2.0, 1.0, 0.0, 0.0), (1.0, 0.0, 1.0, 2.0, 0.0), (1.0, 2.0, 0.0, 1.0, 0.0)]))\n",
      "(pi, cut_edges, sum(isoperimetric_scores), orbitsz, lst) = (9, 12, 235.125, 8, Set(Any[(1.0, 1.0, 0.0, 2.0, 0.0), (2.0, 0.0, 1.0, 1.0, 0.0), (2.0, 0.0, 0.0, 2.0, 0.0), (1.0, 1.0, 1.0, 1.0, 0.0)]))\n",
      "(pi, cut_edges, sum(isoperimetric_scores), orbitsz, lst) = (10, 12, 207.125, 8, Set(Any[(1.0, 0.0, 1.0, 1.0, 1.0), (2.0, 0.0, 2.0, 0.0, 0.0), (2.0, 1.0, 0.0, 0.0, 1.0), (1.0, 1.0, 1.0, 1.0, 0.0)]))\n",
      "(pi, cut_edges, sum(isoperimetric_scores), orbitsz, lst) = (11, 12, 207.125, 8, Set(Any[(2.0, 1.0, 0.0, 1.0, 0.0), (1.0, 2.0, 0.0, 1.0, 0.0), (1.0, 1.0, 0.0, 1.0, 1.0), (2.0, 0.0, 0.0, 1.0, 1.0)]))\n",
      "(pi, cut_edges, sum(isoperimetric_scores), orbitsz, lst) = (12, 12, 207.125, 8, Set(Any[(2.0, 1.0, 0.0, 1.0, 0.0), (1.0, 1.0, 1.0, 1.0, 0.0), (2.0, 0.0, 1.0, 1.0, 0.0), (1.0, 0.0, 0.0, 3.0, 0.0)]))\n",
      "(pi, cut_edges, sum(isoperimetric_scores), orbitsz, lst) = (13, 12, 228.0, 8, Set(Any[(2.0, 1.0, 0.0, 1.0, 0.0), (1.0, 0.0, 1.0, 2.0, 0.0), (1.0, 1.0, 1.0, 1.0, 0.0), (2.0, 0.0, 0.0, 2.0, 0.0)]))\n",
      "(pi, cut_edges, sum(isoperimetric_scores), orbitsz, lst) = (14, 12, 233.375, 8, Set(Any[(2.0, 0.0, 0.0, 1.0, 1.0), (1.0, 1.0, 0.0, 1.0, 1.0), (2.0, 1.0, 0.0, 0.0, 1.0), (3.0, 0.0, 0.0, 0.0, 1.0)]))\n",
      "(pi, cut_edges, sum(isoperimetric_scores), orbitsz, lst) = (15, 12, 207.125, 8, Set(Any[(1.0, 2.0, 1.0, 0.0, 0.0), (2.0, 0.0, 1.0, 0.0, 1.0), (2.0, 1.0, 0.0, 0.0, 1.0), (1.0, 1.0, 0.0, 0.0, 2.0)]))\n",
      "(pi, cut_edges, sum(isoperimetric_scores), orbitsz, lst) = (16, 12, 214.25, 4, Set(Any[(2.0, 0.0, 0.0, 1.0, 1.0), (2.0, 1.0, 0.0, 0.0, 1.0)]))\n",
      "(pi, cut_edges, sum(isoperimetric_scores), orbitsz, lst) = (17, 12, 214.25, 4, Set(Any[(1.0, 1.0, 1.0, 0.0, 1.0), (2.0, 1.0, 0.0, 0.0, 1.0)]))\n",
      "(pi, cut_edges, sum(isoperimetric_scores), orbitsz, lst) = (18, 12, 214.25, 4, Set(Any[(1.0, 0.0, 2.0, 1.0, 0.0), (2.0, 0.0, 1.0, 1.0, 0.0)]))\n",
      "(pi, cut_edges, sum(isoperimetric_scores), orbitsz, lst) = (19, 12, 200.0, 4, Set(Any[(2.0, 1.0, 0.0, 1.0, 0.0), (1.0, 1.0, 0.0, 1.0, 1.0)]))\n",
      "(pi, cut_edges, sum(isoperimetric_scores), orbitsz, lst) = (20, 12, 256.0, 2, Set(Any[(2.0, 0.0, 0.0, 2.0, 0.0)]))\n",
      "(pi, cut_edges, sum(isoperimetric_scores), orbitsz, lst) = (21, 12, 252.5, 2, Set(Any[(2.0, 0.0, 0.0, 0.0, 2.0), (3.0, 0.0, 0.0, 0.0, 1.0)]))\n",
      "(pi, cut_edges, sum(isoperimetric_scores), orbitsz, lst) = (22, 12, 256.0, 2, Set(Any[(2.0, 0.0, 0.0, 2.0, 0.0)]))\n",
      "prob_of_cut_edges_iso_g0 = Dict(11 => 0.25841684734768827, 10 => 0.3356823967625656, 12 => 0.10676103264645417, 8 => 0.29913972324329197)\n",
      "prob_of_cut_edges_iso_g1 = Dict(11 => 0.3338478987335233, 10 => 0.10841675373648768, 12 => 0.5516969467193471, 8 => 0.006038400810641972)\n",
      "prob_of_cut_edges_g1 = Dict(11 => 0.20512820512820515, 10 => 0.11965811965811968, 12 => 0.6666666666666667, 8 => 0.008547008547008548)\n"
     ]
    },
    {
     "data": {
      "text/plain": [
       "Dict{Int64, Float64} with 4 entries:\n",
       "  11 => 0.205128\n",
       "  10 => 0.119658\n",
       "  12 => 0.666667\n",
       "  8  => 0.00854701"
      ]
     },
     "metadata": {},
     "output_type": "display_data"
    }
   ],
   "source": [
    "# grab number of possible linking edge choices for each plan in list\n",
    "\n",
    "plans = [(1, 1, 2, 2, 1, 1, 2, 2, 3, 3, 4, 4, 3, 3, 4, 4),\n",
    "(1, 1, 2, 2, 3, 1, 2, 2, 3, 1, 4, 4, 3, 3, 4, 4),\n",
    "(1, 2, 3, 3, 1, 2, 3, 3, 1, 2, 4, 4, 1, 2, 4, 4),\n",
    "(1, 2, 2, 3, 1, 2, 2, 3, 1, 4, 4, 3, 1, 4, 4, 3),\n",
    "(1, 2, 2, 3, 1, 2, 2, 3, 1, 4, 3, 3, 1, 4, 4, 4),\n",
    "(1, 2, 3, 3, 1, 2, 3, 3, 1, 2, 2, 4, 1, 4, 4, 4),\n",
    "(1, 2, 2, 2, 1, 2, 3, 3, 1, 4, 3, 3, 1, 4, 4, 4),\n",
    "(1, 2, 2, 2, 1, 3, 3, 2, 1, 3, 3, 4, 1, 4, 4, 4),\n",
    "(1, 1, 2, 2, 3, 1, 1, 2, 3, 3, 4, 2, 3, 4, 4, 4),\n",
    "(1, 2, 3, 3, 1, 2, 2, 3, 1, 4, 2, 3, 1, 4, 4, 4),\n",
    "(1, 2, 2, 2, 1, 3, 4, 2, 1, 3, 4, 4, 1, 3, 3, 4),\n",
    "(1, 2, 2, 2, 1, 3, 2, 4, 1, 3, 3, 4, 1, 3, 4, 4),\n",
    "(1, 2, 2, 2, 1, 3, 2, 4, 1, 3, 4, 4, 1, 3, 3, 4),\n",
    "(1, 1, 2, 3, 4, 1, 2, 3, 4, 1, 2, 3, 4, 4, 2, 3),\n",
    "(1, 2, 2, 2, 1, 3, 3, 2, 1, 4, 3, 3, 1, 4, 4, 4),\n",
    "(1, 1, 2, 2, 3, 1, 2, 4, 3, 1, 2, 4, 3, 3, 4, 4),\n",
    "(1, 1, 2, 2, 3, 1, 4, 2, 3, 1, 4, 2, 3, 3, 4, 4),\n",
    "(1, 1, 2, 2, 3, 1, 1, 2, 3, 4, 4, 2, 3, 3, 4, 4),\n",
    "(1, 2, 2, 3, 1, 2, 4, 3, 1, 2, 4, 3, 1, 4, 4, 3),\n",
    "(1, 2, 2, 2, 1, 2, 3, 3, 1, 1, 4, 3, 4, 4, 4, 3),\n",
    "(1, 2, 3, 4, 1, 2, 3, 4, 1, 2, 3, 4, 1, 2, 3, 4),\n",
    "(1, 2, 2, 2, 1, 1, 2, 3, 1, 4, 3, 3, 4, 4, 4, 3)]\n",
    "\n",
    "orbitsize = [1, 8, 4, 2, 8, 8, 4, 4, 8, 8, 8, 8, 8, 8, 8, 4, 4, 4, 4, 2, 2, 2]\n",
    "cut_edges_per_plan = [8, 10, 10, 10, 11, 11, 11, 11, 12, 12, 12, 12, 12, 12, \n",
    "                      12, 12, 12, 12, 12, 12, 12, 12]\n",
    "sp_trees = [256, 16, 16, 16, 4, 4, 4, 4, 1, 1, 1, 1, 1, 1, 1, 1, 1, 1, 1, 1, 1, 1]\n",
    "\n",
    "prob_of_cut_edges_iso_g0 = Dict{Int64, Float64}()\n",
    "prob_of_cut_edges_iso_g1 = Dict{Int64, Float64}()\n",
    "prob_of_cut_edges_g1 = Dict{Int64, Float64}()\n",
    "\n",
    "node_to_district = Dict{Tuple{Vararg{String}}, Int}()\n",
    "partition_index = Dict()\n",
    "\n",
    "for (pi, p) in enumerate(plans)\n",
    "    p = plans[pi]\n",
    "    for ii = 1:length(p)\n",
    "        node_to_district[graph.id_to_partitions[1][ii]] = p[ii]\n",
    "    end\n",
    "    ml_partition = MultiLevelPartition(graph, node_to_district)\n",
    "    rng = PCG.PCGStateOneseq(UInt64, rng_seed + 4052159124)\n",
    "    partition = LinkCutPartition(ml_partition, rng);\n",
    "    isoperimetric_scores = get_isoperimetric_scores(partition)\n",
    "    cut_edges = get_cut_edge_sum(partition)\n",
    "    lst = get_cut_edge_list(partition)\n",
    "    sfs = Int(round(exp(get_log_spanning_forests(partition))))\n",
    "    orbitsz = orbitsize[pi]\n",
    "    prob_of_cut_edges_iso_g0[cut_edges] = get(prob_of_cut_edges_iso_g0, cut_edges, 0) + orbitsz*sfs*exp(-iso_weight*sum(isoperimetric_scores))\n",
    "    prob_of_cut_edges_iso_g1[cut_edges] = get(prob_of_cut_edges_iso_g1, cut_edges, 0) + orbitsz*exp(-iso_weight*sum(isoperimetric_scores))\n",
    "    prob_of_cut_edges_g1[cut_edges] = get(prob_of_cut_edges_g1, cut_edges, 0) + orbitsz\n",
    "    @show pi, cut_edges, sum(isoperimetric_scores), orbitsz, lst\n",
    "    k = (cut_edges, get_cut_edge_list(partition))\n",
    "    if haskey(partition_index, k)\n",
    "        partition_index[k] = Tuple([collect(partition_index[k]); pi])\n",
    "    else\n",
    "        partition_index[k] = (pi,)\n",
    "    end\n",
    "end\n",
    "\n",
    "niso0inv = 1.0/sum(values(prob_of_cut_edges_iso_g0)) # need to normalize\n",
    "niso1inv = 1.0/sum(values(prob_of_cut_edges_iso_g1)) # need to normalize\n",
    "n1inv = 1.0/sum(values(prob_of_cut_edges_g1)) # need to normalize\n",
    "for ce in keys(prob_of_cut_edges_iso_g1)\n",
    "    prob_of_cut_edges_iso_g0[ce] *= niso0inv\n",
    "    prob_of_cut_edges_iso_g1[ce] *= niso1inv\n",
    "    prob_of_cut_edges_g1[ce] *= n1inv\n",
    "end\n",
    "\n",
    "@show prob_of_cut_edges_iso_g0\n",
    "@show prob_of_cut_edges_iso_g1\n",
    "@show prob_of_cut_edges_g1"
   ]
  },
  {
   "cell_type": "code",
   "execution_count": 29,
   "metadata": {},
   "outputs": [
    {
     "name": "stdout",
     "output_type": "stream",
     "text": [
      "run 1\n",
      "(k, v, v / steps, tot_p) = ((13,), 142161, 0.0710805, 0.06837606837606838)\n",
      "(k, v, v / steps, tot_p) = ((15,), 146706, 0.073353, 0.06837606837606838)\n",
      "(k, v, v / steps, tot_p) = ((21,), 35703, 0.0178515, 0.017094017094017096)\n",
      "(k, v, v / steps, tot_p) = ((2,), 135198, 0.067599, 0.06837606837606838)\n",
      "(k, v, v / steps, tot_p) = ((10,), 152811, 0.0764055, 0.06837606837606838)\n",
      "(k, v, v / steps, tot_p) = ((18,), 68538, 0.034269, 0.03418803418803419)\n",
      "(k, v, v / steps, tot_p) = ((4,), 37069, 0.0185345, 0.017094017094017096)\n",
      "(k, v, v / steps, tot_p) = ((16,), 65364, 0.032682, 0.03418803418803419)\n",
      "(k, v, v / steps, tot_p) = ((12,), 141068, 0.070534, 0.06837606837606838)\n",
      "(k, v, v / steps, tot_p) = ((8,), 64627, 0.0323135, 0.03418803418803419)\n",
      "(k, v, v / steps, tot_p) = ((17,), 61743, 0.0308715, 0.03418803418803419)\n",
      "(k, v, v / steps, tot_p) = ((1,), 16305, 0.0081525, 0.008547008547008548)\n",
      "(k, v, v / steps, tot_p) = ((19,), 68494, 0.034247, 0.03418803418803419)\n",
      "(k, v, v / steps, tot_p) = ((6,), 131913, 0.0659565, 0.06837606837606838)\n",
      "(k, v, v / steps, tot_p) = ((20, 22), 69943, 0.0349715, 0.03418803418803419)\n",
      "(k, v, v / steps, tot_p) = ((11,), 140993, 0.0704965, 0.06837606837606838)\n",
      "(k, v, v / steps, tot_p) = ((9,), 156010, 0.078005, 0.06837606837606838)\n",
      "(k, v, v / steps, tot_p) = ((5, 7), 171427, 0.0857135, 0.10256410256410257)\n",
      "(k, v, v / steps, tot_p) = ((14,), 121633, 0.0608165, 0.06837606837606838)\n",
      "(k, v, v / steps, tot_p) = ((3,), 72294, 0.036147, 0.03418803418803419)\n",
      "\n",
      "(k, v, v / steps, tot_p) = (11, 367967, 0.1839835, 0.20512820512820512)\n",
      "(k, v, v / steps, tot_p) = (10, 244561, 0.1222805, 0.11965811965811966)\n",
      "(k, v, v / steps, tot_p) = (12, 1371167, 0.6855835, 0.6666666666666666)\n",
      "(k, v, v / steps, tot_p) = (8, 16305, 0.0081525, 0.008547008547008548)\n"
     ]
    }
   ],
   "source": [
    "# uniform measure on forests\n",
    "\n",
    "constraints = initialize_constraints()\n",
    "add_constraint!(constraints, PopulationConstraint(graph, num_dists, pop_dev))\n",
    "\n",
    "rng = PCG.PCGStateOneseq(UInt64, rng_seed + 4052159124)\n",
    "initial_partition = MultiLevelPartition(graph, constraints, num_dists; rng=rng);\n",
    "partition = LinkCutPartition(initial_partition, rng);\n",
    "\n",
    "cycle_walk = build_lifted_tree_cycle_walk(constraints)\n",
    "internal_walk = build_internal_forest_walk(constraints)\n",
    "proposal = [(cycle_walk_frac, cycle_walk), \n",
    "            (1.0-cycle_walk_frac, internal_walk)]\n",
    "\n",
    "measure = Measure()\n",
    "push_energy!(measure, get_log_spanning_forests, 1.0) \n",
    "\n",
    "newsteps = steps/10\n",
    "            \n",
    "part_key_counts = Dict{Tuple, Int64}()\n",
    "edge_cut_counts = Dict{Int64, Int64}()\n",
    "for ii = 1:newsteps\n",
    "    run_metropolis_hastings!(partition, proposal, measure, 1, rng);\n",
    "    cut_edges = get_cut_edge_sum(partition)\n",
    "    lst = get_cut_edge_list(partition)\n",
    "    pi = partition_index[(cut_edges, lst)]\n",
    "    part_key_counts[pi] = get(part_key_counts, pi, 0) + 1\n",
    "    edge_cut_counts[cut_edges] = get(edge_cut_counts, cut_edges, 0) + 1\n",
    "end\n",
    "\n",
    "println(\"run 1\")\n",
    "for (k, v) in part_key_counts\n",
    "    tot_p = 0\n",
    "    for ki in k\n",
    "        tot_p += orbitsize[ki]/117\n",
    "    end\n",
    "    @show k, v, v/steps, tot_p\n",
    "end\n",
    "\n",
    "println()\n",
    "ce_to_count = Dict(8=>1,10=>14,11=>24,12=>78)\n",
    "for (k, v) in edge_cut_counts\n",
    "    tot_p = ce_to_count[k]/117\n",
    "    @show k, v, v/steps, tot_p\n",
    "end"
   ]
  },
  {
   "cell_type": "code",
   "execution_count": 14,
   "metadata": {},
   "outputs": [
    {
     "name": "stdout",
     "output_type": "stream",
     "text": [
      "(k, v, f, f_ex, err) = (11, 206099, 0.206099, 0.20512820512820515, -0.0009707948717948556)\n",
      "(k, v, f, f_ex, err) = (10, 109737, 0.109737, 0.11965811965811968, 0.009921119658119676)\n",
      "(k, v, f, f_ex, err) = (12, 676741, 0.676741, 0.6666666666666667, -0.010074333333333296)\n",
      "(k, v, f, f_ex, err) = (8, 7423, 0.007423, 0.008547008547008548, 0.001124008547008548)\n"
     ]
    }
   ],
   "source": [
    "# uniform measure\n",
    "constraints = initialize_constraints()\n",
    "add_constraint!(constraints, PopulationConstraint(graph, num_dists, pop_dev))\n",
    "\n",
    "rng = PCG.PCGStateOneseq(UInt64, rng_seed + 40521591241231)\n",
    "initial_partition = MultiLevelPartition(graph, constraints, num_dists; rng=rng);\n",
    "partition = LinkCutPartition(initial_partition, rng);\n",
    "\n",
    "cycle_walk = build_lifted_tree_cycle_walk(constraints)\n",
    "internal_walk = build_internal_forest_walk(constraints)\n",
    "proposal = [(cycle_walk_frac, cycle_walk), \n",
    "            (1.0-cycle_walk_frac, internal_walk)]\n",
    "measure = Measure()\n",
    "push_energy!(measure, get_log_spanning_forests, 1.0) \n",
    "\n",
    "newsteps = steps/10\n",
    "edge_cut_counts = Dict{Int64, Int64}()\n",
    "for ii = 1:newsteps\n",
    "    run_metropolis_hastings!(partition, proposal, measure, 1, rng);\n",
    "    cut_edges = get_cut_edge_sum(partition)\n",
    "    edge_cut_counts[cut_edges] = get(edge_cut_counts, cut_edges, 0) + 1\n",
    "end\n",
    "\n",
    "for (k, v) in edge_cut_counts\n",
    "    f = v/newsteps\n",
    "    f_ex = prob_of_cut_edges_g1[k] \n",
    "    err = f_ex-f\n",
    "    @show k, v, f, f_ex, err\n",
    "end"
   ]
  },
  {
   "cell_type": "code",
   "execution_count": 15,
   "metadata": {},
   "outputs": [
    {
     "name": "stdout",
     "output_type": "stream",
     "text": [
      "isoperimetric_score = 225.0\n",
      "(k, v, f, f_ex, err) = (11, 539787, 0.2698935, 0.25841684734768827, -0.011476652652311736)\n",
      "(k, v, f, f_ex, err) = (10, 687333, 0.3436665, 0.3356823967625656, -0.00798410323743437)\n",
      "(k, v, f, f_ex, err) = (12, 212772, 0.106386, 0.10676103264645417, 0.0003750326464541792)\n",
      "(k, v, f, f_ex, err) = (8, 560108, 0.280054, 0.29913972324329197, 0.01908572324329194)\n"
     ]
    }
   ],
   "source": [
    "# uniform measure on forests weighted by polsby popper\n",
    "constraints = initialize_constraints()\n",
    "add_constraint!(constraints, PopulationConstraint(graph, num_dists, pop_dev))\n",
    "\n",
    "rng = PCG.PCGStateOneseq(UInt64, rng_seed + 40521591241231)\n",
    "initial_partition = MultiLevelPartition(graph, constraints, num_dists; rng=rng);\n",
    "partition = LinkCutPartition(initial_partition, rng);\n",
    "\n",
    "cycle_walk = build_lifted_tree_cycle_walk(constraints)\n",
    "internal_walk = build_internal_forest_walk(constraints)\n",
    "proposal = [(cycle_walk_frac, cycle_walk), \n",
    "            (1.0-cycle_walk_frac, internal_walk)]\n",
    "measure = Measure()\n",
    "# push_energy!(measure, get_log_spanning_forests, 1.0) \n",
    "push_energy!(measure, get_isoperimetric_score, iso_weight) \n",
    "\n",
    "newsteps = steps/5\n",
    "# newsteps = 1000\n",
    "edge_cut_counts = Dict{Int64, Int64}()\n",
    "pind_to_vals = Dict()\n",
    "isoperimetric_score = get_isoperimetric_score(partition)\n",
    "@show isoperimetric_score\n",
    "for ii = 1:newsteps\n",
    "    run_metropolis_hastings!(partition, proposal, measure, 1, rng, pind_to_vals);\n",
    "    cut_edges = get_cut_edge_sum(partition)\n",
    "    edge_cut_counts[cut_edges] = get(edge_cut_counts, cut_edges, 0) + 1\n",
    "end\n",
    "\n",
    "for (k, v) in edge_cut_counts\n",
    "    f = v/newsteps\n",
    "    f_ex = prob_of_cut_edges_iso_g0[k] \n",
    "    err = f_ex-f\n",
    "    @show k, v, f, f_ex, err\n",
    "end"
   ]
  },
  {
   "cell_type": "code",
   "execution_count": 17,
   "metadata": {},
   "outputs": [
    {
     "name": "stdout",
     "output_type": "stream",
     "text": [
      "isoperimetric_score = 225.0\n",
      "(k, v, f, f_ex, err) = (11, 330660, 0.33066, 0.3338478987335233, 0.0031878987335232645)\n",
      "(k, v, f, f_ex, err) = (10, 116713, 0.116713, 0.10841675373648768, -0.008296246263512316)\n",
      "(k, v, f, f_ex, err) = (12, 546511, 0.546511, 0.5516969467193471, 0.005185946719347134)\n",
      "(k, v, f, f_ex, err) = (8, 6116, 0.006116, 0.006038400810641972, -7.759918935802777e-5)\n"
     ]
    }
   ],
   "source": [
    "# uniform measure on partitions weighted by polsby popper\n",
    "constraints = initialize_constraints()\n",
    "add_constraint!(constraints, PopulationConstraint(graph, num_dists, pop_dev))\n",
    "\n",
    "rng = PCG.PCGStateOneseq(UInt64, rng_seed + 40521591241231)\n",
    "initial_partition = MultiLevelPartition(graph, constraints, num_dists; rng=rng);\n",
    "partition = LinkCutPartition(initial_partition, rng);\n",
    "\n",
    "cycle_walk = build_lifted_tree_cycle_walk(constraints)\n",
    "internal_walk = build_internal_forest_walk(constraints)\n",
    "proposal = [(cycle_walk_frac, cycle_walk), \n",
    "            (1.0-cycle_walk_frac, internal_walk)]\n",
    "measure = Measure()\n",
    "push_energy!(measure, get_log_spanning_forests, 1.0) \n",
    "push_energy!(measure, get_isoperimetric_score, iso_weight) \n",
    "\n",
    "newsteps = steps/10\n",
    "# newsteps = 1000\n",
    "edge_cut_counts = Dict{Int64, Int64}()\n",
    "isoperimetric_score = get_isoperimetric_score(partition)\n",
    "@show isoperimetric_score\n",
    "for ii = 1:newsteps\n",
    "    run_metropolis_hastings!(partition, proposal, measure, 1, rng);\n",
    "    cut_edges = get_cut_edge_sum(partition)\n",
    "    edge_cut_counts[cut_edges] = get(edge_cut_counts, cut_edges, 0) + 1\n",
    "end\n",
    "\n",
    "for (k, v) in edge_cut_counts\n",
    "    f = v/newsteps\n",
    "    f_ex = prob_of_cut_edges_iso_g1[k] \n",
    "    err = f_ex-f\n",
    "    @show k, v, f, f_ex, err\n",
    "end"
   ]
  },
  {
   "cell_type": "code",
   "execution_count": null,
   "metadata": {},
   "outputs": [],
   "source": []
  }
 ],
 "metadata": {
  "kernelspec": {
   "display_name": "Julia 1.11.4",
   "language": "julia",
   "name": "julia-1.11"
  },
  "language_info": {
   "file_extension": ".jl",
   "mimetype": "application/julia",
   "name": "julia",
   "version": "1.11.4"
  }
 },
 "nbformat": 4,
 "nbformat_minor": 2
}
