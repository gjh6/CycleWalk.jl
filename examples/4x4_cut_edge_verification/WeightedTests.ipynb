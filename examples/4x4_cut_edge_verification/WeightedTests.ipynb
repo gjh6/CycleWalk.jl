{
 "cells": [
  {
   "cell_type": "code",
   "execution_count": 4,
   "metadata": {},
   "outputs": [
    {
     "name": "stderr",
     "output_type": "stream",
     "text": [
      "\u001b[32m\u001b[1m  Activating\u001b[22m\u001b[39m project at `~/.julia/environments/mcmc_redistricting`\n"
     ]
    }
   ],
   "source": [
    "import Pkg\n",
    "push!(LOAD_PATH, \"../../\");\n",
    "Pkg.activate(\"mcmc_redistricting\", shared=true)\n",
    "\n",
    "using Revise\n",
    "using RandomNumbers\n",
    "using LiftedTreeWalk"
   ]
  },
  {
   "cell_type": "code",
   "execution_count": null,
   "metadata": {},
   "outputs": [
    {
     "data": {
      "text/plain": [
       "Set{String} with 3 elements:\n",
       "  \"county\"\n",
       "  \"TOTPOP\"\n",
       "  \"precinct\""
      ]
     },
     "metadata": {},
     "output_type": "display_data"
    }
   ],
   "source": [
    "pctGraphPath = joinpath(\".\", \"4x4.json\")\n",
    "precinct_name = \"precinct\"\n",
    "county_name = \"county\"\n",
    "population_col = \"TOTPOP\"\n",
    "num_dists = 4\n",
    "rng_seed = 454190\n",
    "pop_dev = 0.0\n",
    "cycle_walk_frac = 0.01\n",
    "steps = 100000/cycle_walk_frac\n",
    "edge_weights= \"connections\"\n",
    "\n",
    "nodeData = Set([precinct_name, county_name, population_col])"
   ]
  },
  {
   "cell_type": "code",
   "execution_count": 6,
   "metadata": {},
   "outputs": [
    {
     "data": {
      "text/plain": [
       "edge_weight_func (generic function with 1 method)"
      ]
     },
     "metadata": {},
     "output_type": "display_data"
    }
   ],
   "source": [
    "outercorners = Set([(0,1), (2,3), (3,7), (11,15), (14,15), (12,13), (8,12), (0,4)])\n",
    "outermiddle = Set([(1,2), (7,11), (13,14), (4,8)])\n",
    "innermiddle = Set([(5,6), (6,10), (9,10), (5,9)])\n",
    "\n",
    "outercorners = Set([(0,1), (2,3), (3,7), (11,15), (14,15), (12,13), (8,12), (0,4)])\n",
    "outermiddle = Set([(1,2), (7,11), (13,14), (4,8)])\n",
    "innermiddle = Set([(5,6), (6,10), (9,10), (5,9)])\n",
    "\n",
    "function edge_weight_func(\n",
    "    base_graph::BaseGraph, \n",
    "    n1::Int, n2::Int;\n",
    "    weights::Vector{Float64}=Vector{Float64}(undef, 0),\n",
    "    edge_sets::Vector{Set{Tuple{Int64, Int64}}}=\n",
    "        Vector{Set{Tuple{Int64, Int64}}}(undef, 0)\n",
    ")\n",
    "    edge = (min(n1-1,n2-1), max(n1-1,n2-1))\n",
    "    for (w, es) in zip(weights, edge_sets)\n",
    "        if edge ∈ es\n",
    "            return w\n",
    "        end\n",
    "    end\n",
    "    return 1\n",
    "end"
   ]
  },
  {
   "cell_type": "code",
   "execution_count": null,
   "metadata": {},
   "outputs": [],
   "source": [
    "base_graph = BaseGraph(pctGraphPath,  population_col,  \n",
    "                       inc_node_data=nodeData, edge_weights=edge_weights,\n",
    "                       edge_perimeter_col=edge_weights);\n",
    "\n",
    "edge_sets = [outercorners, outermiddle, innermiddle]\n",
    "weight_func(g, n1, n2) = edge_weight_func(g, n1, n2; weights=[2.0,2.5,3.0], \n",
    "                                          edge_sets=edge_sets)\n",
    "modify_edge_weights!(base_graph, weight_func);\n",
    "for e in keys(base_graph.edge_attributes)\n",
    "    base_graph.edge_attributes[e][\"unit\"] = 1\n",
    "end\n",
    "graph = MultiLevelGraph(base_graph, [precinct_name]);"
   ]
  },
  {
   "cell_type": "code",
   "execution_count": null,
   "metadata": {},
   "outputs": [
    {
     "name": "stdout",
     "output_type": "stream",
     "text": [
      "(cut_edges_w, cut_edges_uw, sfs, orbitsz) = (22.0, 8, 20736, 1)\n",
      "(cut_edges_w, cut_edges_uw, sfs, orbitsz) = (21.5, 10, 8640, 8)\n",
      "(cut_edges_w, cut_edges_uw, sfs, orbitsz) = (22.5, 10, 4320, 4)\n",
      "(cut_edges_w, cut_edges_uw, sfs, orbitsz) = (18.0, 10, 42025, 2)\n",
      "(cut_edges_w, cut_edges_uw, sfs, orbitsz) = (21.0, 11, 5125, 8)\n",
      "(cut_edges_w, cut_edges_uw, sfs, orbitsz) = (20.0, 11, 10800, 8)\n",
      "(cut_edges_w, cut_edges_uw, sfs, orbitsz) = (21.0, 11, 5125, 4)\n",
      "(cut_edges_w, cut_edges_uw, sfs, orbitsz) = (14.5, 11, 108000, 4)\n",
      "(cut_edges_w, cut_edges_uw, sfs, orbitsz) = (22.5, 12, 1500, 8)\n",
      "(cut_edges_w, cut_edges_uw, sfs, orbitsz) = (20.5, 12, 4500, 8)\n",
      "(cut_edges_w, cut_edges_uw, sfs, orbitsz) = (20.5, 12, 4500, 8)\n",
      "(cut_edges_w, cut_edges_uw, sfs, orbitsz) = (20.5, 12, 4500, 8)\n",
      "(cut_edges_w, cut_edges_uw, sfs, orbitsz) = (22.0, 12, 1875, 8)\n",
      "(cut_edges_w, cut_edges_uw, sfs, orbitsz) = (22.0, 12, 1800, 8)\n",
      "(cut_edges_w, cut_edges_uw, sfs, orbitsz) = (20.5, 12, 4500, 8)\n",
      "(cut_edges_w, cut_edges_uw, sfs, orbitsz) = (21.0, 12, 3600, 4)\n",
      "(cut_edges_w, cut_edges_uw, sfs, orbitsz) = (21.0, 12, 3600, 4)\n",
      "(cut_edges_w, cut_edges_uw, sfs, orbitsz) = (21.0, 12, 3600, 4)\n",
      "(cut_edges_w, cut_edges_uw, sfs, orbitsz) = (20.0, 12, 5625, 4)\n",
      "(cut_edges_w, cut_edges_uw, sfs, orbitsz) = (24.0, 12, 625, 2)\n",
      "(cut_edges_w, cut_edges_uw, sfs, orbitsz) = (23.0, 12, 900, 2)\n",
      "(cut_edges_w, cut_edges_uw, sfs, orbitsz) = (24.0, 12, 625, 2)\n"
     ]
    },
    {
     "data": {
      "text/plain": [
       "Dict{Int64, Float64} with 4 entries:\n",
       "  11 => 0.564937\n",
       "  10 => 0.166052\n",
       "  12 => 0.24881\n",
       "  8  => 0.020201"
      ]
     },
     "metadata": {},
     "output_type": "display_data"
    }
   ],
   "source": [
    "# grab number of possible linking edge choices for each plan in list\n",
    "\n",
    "plans = [(1, 1, 2, 2, 1, 1, 2, 2, 3, 3, 4, 4, 3, 3, 4, 4),\n",
    "(1, 1, 2, 2, 3, 1, 2, 2, 3, 1, 4, 4, 3, 3, 4, 4),\n",
    "(1, 2, 3, 3, 1, 2, 3, 3, 1, 2, 4, 4, 1, 2, 4, 4),\n",
    "(1, 2, 2, 3, 1, 2, 2, 3, 1, 4, 4, 3, 1, 4, 4, 3),\n",
    "(1, 2, 2, 3, 1, 2, 2, 3, 1, 4, 3, 3, 1, 4, 4, 4),\n",
    "(1, 2, 3, 3, 1, 2, 3, 3, 1, 2, 2, 4, 1, 4, 4, 4),\n",
    "(1, 2, 2, 2, 1, 2, 3, 3, 1, 4, 3, 3, 1, 4, 4, 4),\n",
    "(1, 2, 2, 2, 1, 3, 3, 2, 1, 3, 3, 4, 1, 4, 4, 4),\n",
    "(1, 1, 2, 2, 3, 1, 1, 2, 3, 3, 4, 2, 3, 4, 4, 4),\n",
    "(1, 2, 3, 3, 1, 2, 2, 3, 1, 4, 2, 3, 1, 4, 4, 4),\n",
    "(1, 2, 2, 2, 1, 3, 4, 2, 1, 3, 4, 4, 1, 3, 3, 4),\n",
    "(1, 2, 2, 2, 1, 3, 2, 4, 1, 3, 3, 4, 1, 3, 4, 4),\n",
    "(1, 2, 2, 2, 1, 3, 2, 4, 1, 3, 4, 4, 1, 3, 3, 4),\n",
    "(1, 1, 2, 3, 4, 1, 2, 3, 4, 1, 2, 3, 4, 4, 2, 3),\n",
    "(1, 2, 2, 2, 1, 3, 3, 2, 1, 4, 3, 3, 1, 4, 4, 4),\n",
    "(1, 1, 2, 2, 3, 1, 2, 4, 3, 1, 2, 4, 3, 3, 4, 4),\n",
    "(1, 1, 2, 2, 3, 1, 4, 2, 3, 1, 4, 2, 3, 3, 4, 4),\n",
    "(1, 1, 2, 2, 3, 1, 1, 2, 3, 4, 4, 2, 3, 3, 4, 4),\n",
    "(1, 2, 2, 3, 1, 2, 4, 3, 1, 2, 4, 3, 1, 4, 4, 3),\n",
    "(1, 2, 2, 2, 1, 2, 3, 3, 1, 1, 4, 3, 4, 4, 4, 3),\n",
    "(1, 2, 3, 4, 1, 2, 3, 4, 1, 2, 3, 4, 1, 2, 3, 4),\n",
    "(1, 2, 2, 2, 1, 1, 2, 3, 1, 4, 3, 3, 4, 4, 4, 3)]\n",
    "\n",
    "orbitsize = [1, 8, 4, 2, 8, 8, 4, 4, 8, 8, 8, 8, 8, 8, 8, 4, 4, 4, 4, 2, 2, 2]\n",
    "cut_edges_per_plan = [8, 10, 10, 10, 11, 11, 11, 11, 12, 12, 12, 12, 12, 12, \n",
    "                      12, 12, 12, 12, 12, 12, 12, 12]\n",
    "sp_trees = [256, 16, 16, 16, 4, 4, 4, 4, 1, 1, 1, 1, 1, 1, 1, 1, 1, 1, 1, 1, 1, 1]\n",
    "prob_of_cut_edges_g0 = Dict{Int64, Float64}()\n",
    "prob_of_cut_edges_g1 = Dict{Int64, Float64}()\n",
    "\n",
    "node_to_district = Dict{Tuple{Vararg{String}}, Int}()\n",
    "\n",
    "for (pi, p) in enumerate(plans)\n",
    "    for ii = 1:length(p)\n",
    "        node_to_district[graph.id_to_partitions[1][ii]] = p[ii]\n",
    "    end\n",
    "    ml_partition = MultiLevelPartition(graph, node_to_district)\n",
    "    rng = PCG.PCGStateOneseq(UInt64, rng_seed + 4052159124)\n",
    "    partition = LinkCutPartition(ml_partition, rng);\n",
    "    cut_edges_w = get_cut_edge_sum(partition)\n",
    "    cut_edges_uw = get_cut_edge_sum(partition; column=\"unit\")\n",
    "    sfs = Int(round(exp(get_log_spanning_forests(partition))))\n",
    "    orbitsz = orbitsize[pi]\n",
    "    prob_of_cut_edges_g0[cut_edges_uw] = get(prob_of_cut_edges_g0, cut_edges_uw, 0) + sfs*orbitsz\n",
    "    prob_of_cut_edges_g1[cut_edges_uw] = get(prob_of_cut_edges_g1, cut_edges_uw, 0) + orbitsz\n",
    "    @show cut_edges_w, cut_edges_uw, sfs, orbitsz\n",
    "end\n",
    "\n",
    "n0inv = 1.0/sum(values(prob_of_cut_edges_g0)) # need to normalize\n",
    "n1inv = 1.0/sum(values(prob_of_cut_edges_g1)) # need to normalize\n",
    "for ce in keys(prob_of_cut_edges_g0)\n",
    "    prob_of_cut_edges_g0[ce] *= n0inv\n",
    "    prob_of_cut_edges_g1[ce] *= n1inv\n",
    "end\n",
    "\n",
    "@show prob_of_cut_edges_g0\n",
    "@show prob_of_cut_edges_g1"
   ]
  },
  {
   "cell_type": "code",
   "execution_count": 15,
   "metadata": {},
   "outputs": [
    {
     "name": "stdout",
     "output_type": "stream",
     "text": [
      "run 1\n",
      "(k, v, f, f_ex, err) = (11, 4101132, 0.2050566, 0.20512820512820515, 7.160512820514331e-5)\n",
      "(k, v, f, f_ex, err) = (10, 2474109, 0.12370545, 0.11965811965811968, -0.0040473303418803175)\n",
      "(k, v, f, f_ex, err) = (12, 13245301, 0.66226505, 0.6666666666666667, 0.004401616666666719)\n",
      "(k, v, f, f_ex, err) = (8, 179458, 0.0089729, 0.008547008547008548, -0.0004258914529914528)\n"
     ]
    }
   ],
   "source": [
    "# uniform measure\n",
    "constraints = initialize_constraints()\n",
    "add_constraint!(constraints, PopulationConstraint(graph, num_dists, pop_dev))\n",
    "\n",
    "rng = PCG.PCGStateOneseq(UInt64, rng_seed + 40521591241231)\n",
    "initial_partition = MultiLevelPartition(graph, constraints, num_dists; rng=rng);\n",
    "partition = LinkCutPartition(initial_partition, rng);\n",
    "\n",
    "cycle_walk = build_lifted_tree_cycle_walk(constraints)\n",
    "internal_walk = build_internal_forest_walk(constraints)\n",
    "proposal = [(cycle_walk_frac, cycle_walk), \n",
    "            (1.0-cycle_walk_frac, internal_walk)]\n",
    "measure = Measure()\n",
    "push_energy!(measure, get_log_spanning_forests, 1.0) \n",
    "\n",
    "edge_cut_counts = Dict{Int64, Int64}()\n",
    "for ii = 1:steps\n",
    "    run_metropolis_hastings!(partition, proposal, measure, 1, rng);\n",
    "    cut_edges = get_cut_edge_sum(partition; column=\"unit\")\n",
    "    edge_cut_counts[cut_edges] = get(edge_cut_counts, cut_edges, 0) + 1\n",
    "end\n",
    "\n",
    "println(\"run 1\")\n",
    "for (k, v) in edge_cut_counts\n",
    "    f = v/steps\n",
    "    f_ex = prob_of_cut_edges_g1[k] \n",
    "    err = f_ex-f\n",
    "    @show k, v, f, f_ex, err\n",
    "end\n",
    "\n",
    "# # rng = PCG.PCGStateOneseq(UInt64, rng_seed + 12412)\n",
    "# edge_cut_counts = Dict{Int64, Int64}()\n",
    "# for ii = 1:steps\n",
    "#     run_metropolis_hastings!(partition, proposal, measure, 1, rng);\n",
    "#     cut_edges = MultiScaleMapSampler.get_cut_edge_weights(partition, \"unit\")\n",
    "#     edge_cut_counts[cut_edges] = get(edge_cut_counts, cut_edges, 0) + 1\n",
    "# end\n",
    "\n",
    "# println(\"run 2\")\n",
    "# for (k, v) in edge_cut_counts\n",
    "#     f = v/steps\n",
    "#     f_ex = prob_of_cut_edges_g1[k] \n",
    "#     err = f_ex-f\n",
    "#     @show k, v, f, f_ex, err\n",
    "# end"
   ]
  },
  {
   "cell_type": "code",
   "execution_count": 17,
   "metadata": {},
   "outputs": [
    {
     "name": "stdout",
     "output_type": "stream",
     "text": [
      "run 1a\n",
      "(k, v, f, f_ex, err) = (11, 11249732, 0.5624866, 0.5649370765894517, 0.0024504765894517444)\n",
      "(k, v, f, f_ex, err) = (10, 3203291, 0.16016455, 0.1660519481025557, 0.005887398102555702)\n",
      "(k, v, f, f_ex, err) = (12, 5143143, 0.25715715, 0.24881001786678042, -0.008347132133219581)\n",
      "(k, v, f, f_ex, err) = (8, 403834, 0.0201917, 0.020200957441212055, 9.2574412120551e-6)\n"
     ]
    }
   ],
   "source": [
    "# spanning forest\n",
    "\n",
    "constraints = initialize_constraints()\n",
    "add_constraint!(constraints, PopulationConstraint(graph, num_dists, pop_dev))\n",
    "\n",
    "rng = PCG.PCGStateOneseq(UInt64, rng_seed + 40521591241231)\n",
    "initial_partition = MultiLevelPartition(graph, constraints, num_dists; rng=rng);\n",
    "partition = LinkCutPartition(initial_partition, rng);\n",
    "\n",
    "cycle_walk = build_lifted_tree_cycle_walk(constraints)\n",
    "internal_walk = build_internal_forest_walk(constraints)\n",
    "proposal = [(cycle_walk_frac, cycle_walk), \n",
    "            (1.0-cycle_walk_frac, internal_walk)]\n",
    "measure = Measure()\n",
    "\n",
    "edge_cut_counts = Dict{Int64, Int64}()\n",
    "for ii = 1:steps\n",
    "    run_metropolis_hastings!(partition, proposal, measure, 1, rng);\n",
    "    cut_edges = get_cut_edge_sum(partition; column=\"unit\")\n",
    "    edge_cut_counts[cut_edges] = get(edge_cut_counts, cut_edges, 0) + 1\n",
    "end\n",
    "\n",
    "println(\"run 1a\")\n",
    "for (k, v) in edge_cut_counts\n",
    "    f = v/steps\n",
    "    f_ex = prob_of_cut_edges_g0[k] \n",
    "    err = f_ex-f\n",
    "    @show k, v, f, f_ex, err\n",
    "end\n",
    "\n",
    "# edge_cut_counts = Dict{Int64, Int64}()\n",
    "# for ii = 1:steps\n",
    "#     run_metropolis_hastings!(partition, proposal, measure, 1, rng);\n",
    "#     cut_edges = MultiScaleMapSampler.get_cut_edge_weights(partition, \"unit\")\n",
    "#     edge_cut_counts[cut_edges] = get(edge_cut_counts, cut_edges, 0) + 1\n",
    "# end\n",
    "\n",
    "# println(\"run 1b\")\n",
    "# for (k, v) in edge_cut_counts\n",
    "#     f = v/steps\n",
    "#     f_ex = prob_of_cut_edges_g0[k] \n",
    "#     err = f_ex-f\n",
    "#     @show k, v, f, f_ex, err\n",
    "# end\n",
    "\n",
    "# # rng = PCG.PCGStateOneseq(UInt64, rng_seed + 12412)\n",
    "\n",
    "# # METHOD 2; will probably be slightly slower than method 1\n",
    "# measure = Measure(0.0)\n",
    "# push_measure!(measure, get_log_linking_edges, 1.0)\n",
    "\n",
    "# edge_cut_counts = Dict{Int64, Int64}()\n",
    "# for ii = 1:steps\n",
    "#     run_metropolis_hastings!(partition, proposal, measure, 1, rng);\n",
    "#     cut_edges = MultiScaleMapSampler.get_cut_edge_weights(partition, \"unit\")\n",
    "#     edge_cut_counts[cut_edges] = get(edge_cut_counts, cut_edges, 0) + 1\n",
    "# end\n",
    "\n",
    "# println(\"run 2a\")\n",
    "# for (k, v) in edge_cut_counts\n",
    "#     f = v/steps\n",
    "#     f_ex = prob_of_cut_edges_g0[k] \n",
    "#     err = f_ex-f\n",
    "#     @show k, v, f, f_ex, err\n",
    "# end\n",
    "\n",
    "# edge_cut_counts = Dict{Int64, Int64}()\n",
    "# for ii = 1:steps\n",
    "#     run_metropolis_hastings!(partition, proposal, measure, 1, rng);\n",
    "#     cut_edges = MultiScaleMapSampler.get_cut_edge_weights(partition, \"unit\")\n",
    "#     edge_cut_counts[cut_edges] = get(edge_cut_counts, cut_edges, 0) + 1\n",
    "# end\n",
    "\n",
    "# println(\"run 2b\")\n",
    "# for (k, v) in edge_cut_counts\n",
    "#     f = v/steps\n",
    "#     f_ex = prob_of_cut_edges_g0[k] \n",
    "#     err = f_ex-f\n",
    "#     @show k, v, f, f_ex, err\n",
    "# end"
   ]
  },
  {
   "cell_type": "code",
   "execution_count": 37,
   "metadata": {},
   "outputs": [
    {
     "name": "stdout",
     "output_type": "stream",
     "text": [
      "(src(e), dst(e), weight(e)) = (1, 2, 4.0)\n",
      "(src(e), dst(e), weight(e)) = (2, 3, 3.0)\n",
      "(src(e), dst(e), weight(e)) = (3, 4, 4.0)\n",
      "(src(e), dst(e), weight(e)) = (1, 5, 4.0)\n",
      "(src(e), dst(e), weight(e)) = (2, 6, 1.0)\n",
      "(src(e), dst(e), weight(e)) = (5, 6, 1.0)\n",
      "(src(e), dst(e), weight(e)) = (3, 7, 1.0)\n",
      "(src(e), dst(e), weight(e)) = (6, 7, 2.0)\n",
      "(src(e), dst(e), weight(e)) = (4, 8, 4.0)\n",
      "(src(e), dst(e), weight(e)) = (7, 8, 1.0)\n",
      "(src(e), dst(e), weight(e)) = (5, 9, 3.0)\n",
      "(src(e), dst(e), weight(e)) = (6, 10, 2.0)\n",
      "(src(e), dst(e), weight(e)) = (9, 10, 1.0)\n",
      "(src(e), dst(e), weight(e)) = (7, 11, 2.0)\n",
      "(src(e), dst(e), weight(e)) = (10, 11, 2.0)\n",
      "(src(e), dst(e), weight(e)) = (8, 12, 3.0)\n",
      "(src(e), dst(e), weight(e)) = (11, 12, 1.0)\n",
      "(src(e), dst(e), weight(e)) = (9, 13, 4.0)\n",
      "(src(e), dst(e), weight(e)) = (10, 14, 1.0)\n",
      "(src(e), dst(e), weight(e)) = (13, 14, 4.0)\n",
      "(src(e), dst(e), weight(e)) = (11, 15, 1.0)\n",
      "(src(e), dst(e), weight(e)) = (14, 15, 3.0)\n",
      "(src(e), dst(e), weight(e)) = (12, 16, 4.0)\n",
      "(src(e), dst(e), weight(e)) = (15, 16, 4.0)\n"
     ]
    }
   ],
   "source": [
    "inner_box = Set{Edge}([Edge(10,11), Edge(6,10), Edge(6,7), Edge(7,11)])\n",
    "outer_middles = Set{Edge}([Edge(2,3), Edge(5,9), Edge(8,12), Edge(14,15)])\n",
    "outer_corners = Set{Edge}([Edge(1,2), Edge(1,5), Edge(3,4), Edge(4,8),\n",
    "                           Edge(9,13), Edge(13,14), Edge(12,16), Edge(15,16)])\n",
    "weights = [2, 3, 4]\n",
    "edge_sets = [inner_box, outer_middles, outer_corners]\n",
    "\n",
    "function edge_weighting(bg::BaseGraph, n1::Int64, n2::Int64, weights::Vector, \n",
    "                        edge_sets::Vector)\n",
    "    @assert length(weights) == length(edge_sets)\n",
    "    e = Edge(n1, n2)\n",
    "    for ii = 1:length(weights)\n",
    "        if e in edge_sets[ii]\n",
    "            return weights[ii]\n",
    "        end\n",
    "    end\n",
    "    return 1.0\n",
    "end\n",
    "\n",
    "edge_weight_func(bg, n1, n2) = edge_weighting(bg, n1, n2, weights, edge_sets)\n",
    "\n",
    "base_graph2 = deepcopy(base_graph)\n",
    "modify_edge_weights!(base_graph2, edge_weight_func)\n",
    "using Graphs, SimpleWeightedGraphs\n",
    "for e in edges(base_graph2.simple_graph)\n",
    "    @show src(e), dst(e), weight(e)\n",
    "end"
   ]
  },
  {
   "cell_type": "code",
   "execution_count": 39,
   "metadata": {},
   "outputs": [
    {
     "name": "stdout",
     "output_type": "stream",
     "text": [
      "run 1\n",
      "(k, v, v / steps) = (11, 20093, 0.20093)\n",
      "(k, v, v / steps) = (10, 10194, 0.10194)\n",
      "(k, v, v / steps) = (12, 69005, 0.69005)\n",
      "(k, v, v / steps) = (8, 708, 0.00708)\n",
      "run 2\n",
      "(k, v, v / steps) = (11, 21190, 0.2119)\n",
      "(k, v, v / steps) = (10, 11132, 0.11132)\n",
      "(k, v, v / steps) = (12, 66970, 0.6697)\n",
      "(k, v, v / steps) = (8, 708, 0.00708)\n"
     ]
    }
   ],
   "source": [
    "graph = MultiLevelGraph(base_graph, [precinct_name]);\n",
    "graph2 = MultiLevelGraph(base_graph2, [precinct_name]);\n",
    "\n",
    "rng = PCG.PCGStateOneseq(UInt64, rng_seed + 4052159124)\n",
    "partition = MultiLevelPartition(graph2, constraints, num_dists; rng=rng);\n",
    "\n",
    "proposal = build_forest_recom2(constraints)\n",
    "measure = Measure(1.0)\n",
    "\n",
    "for ii = 1:2\n",
    "    edge_cut_counts = Dict{Int64, Int64}()\n",
    "    for ii = 1:steps\n",
    "        run_metropolis_hastings!(partition, proposal, measure, 1, rng);\n",
    "        tmp_part = MultiLevelPartition(graph, partition.node_to_district)\n",
    "        cut_edges = get_cut_edge_count(tmp_part)\n",
    "        edge_cut_counts[cut_edges] = get(edge_cut_counts, cut_edges, 0) + 1\n",
    "    end\n",
    "\n",
    "    println(\"run \"*string(ii))\n",
    "    for (k, v) in edge_cut_counts\n",
    "        @show k, v, v/steps\n",
    "    end\n",
    "end\n"
   ]
  },
  {
   "cell_type": "code",
   "execution_count": 40,
   "metadata": {},
   "outputs": [
    {
     "name": "stdout",
     "output_type": "stream",
     "text": [
      "run 1\n",
      "(k, v, v / steps) = (11, 61201, 0.61201)\n",
      "(k, v, v / steps) = (10, 15915, 0.15915)\n",
      "(k, v, v / steps) = (12, 17520, 0.1752)\n",
      "(k, v, v / steps) = (8, 5364, 0.05364)\n",
      "run 2\n",
      "(k, v, v / steps) = (11, 60143, 0.60143)\n",
      "(k, v, v / steps) = (10, 16194, 0.16194)\n",
      "(k, v, v / steps) = (12, 18504, 0.18504)\n",
      "(k, v, v / steps) = (8, 5159, 0.05159)\n"
     ]
    }
   ],
   "source": [
    "graph = MultiLevelGraph(base_graph, [precinct_name]);\n",
    "graph2 = MultiLevelGraph(base_graph2, [precinct_name]);\n",
    "\n",
    "rng = PCG.PCGStateOneseq(UInt64, rng_seed + 4052159124)\n",
    "partition = MultiLevelPartition(graph2, constraints, num_dists; rng=rng);\n",
    "\n",
    "proposal = build_forest_recom2(constraints)\n",
    "measure = Measure(0.0, 1.0)\n",
    "\n",
    "for ii = 1:2\n",
    "    edge_cut_counts = Dict{Int64, Int64}()\n",
    "    for ii = 1:steps\n",
    "        run_metropolis_hastings!(partition, proposal, measure, 1, rng);\n",
    "        tmp_part = MultiLevelPartition(graph, partition.node_to_district)\n",
    "        cut_edges = get_cut_edge_count(tmp_part)\n",
    "        edge_cut_counts[cut_edges] = get(edge_cut_counts, cut_edges, 0) + 1\n",
    "    end\n",
    "\n",
    "    println(\"run \"*string(ii))\n",
    "    for (k, v) in edge_cut_counts\n",
    "        @show k, v, v/steps\n",
    "    end\n",
    "end\n"
   ]
  },
  {
   "cell_type": "code",
   "execution_count": null,
   "metadata": {},
   "outputs": [],
   "source": []
  },
  {
   "cell_type": "code",
   "execution_count": 45,
   "metadata": {},
   "outputs": [
    {
     "name": "stdout",
     "output_type": "stream",
     "text": [
      "(linking_edges, cut_edges, sf, orbitsize[pi]) = (625, 20, 2560000, 1)\n",
      "(linking_edges, cut_edges, sf, orbitsize[pi]) = (2401, 28.0, 20736, 2)\n",
      "(linking_edges, cut_edges, sf, orbitsize[pi]) = (1000, 30.0, 9216, 2)\n",
      "(linking_edges, cut_edges, sf, orbitsize[pi]) = (2500, 24.0, 665856, 2)\n",
      "(linking_edges, cut_edges, sf, orbitsize[pi]) = (2401, 28.0, 20736, 2)\n",
      "(linking_edges, cut_edges, sf, orbitsize[pi]) = (1029, 24.0, 147456, 4)\n",
      "(linking_edges, cut_edges, sf, orbitsize[pi]) = (1764, 24.0, 147456, 4)\n",
      "(linking_edges, cut_edges, sf, orbitsize[pi]) = (1250, 25.0, 153600, 4)\n",
      "(linking_edges, cut_edges, sf, orbitsize[pi]) = (2500, 24.0, 147456, 4)\n",
      "(linking_edges, cut_edges, sf, orbitsize[pi]) = (2450, 26.0, 117504, 4)\n",
      "(linking_edges, cut_edges, sf, orbitsize[pi]) = (3456, 26.0, 82944, 4)\n",
      "(linking_edges, cut_edges, sf, orbitsize[pi]) = (864, 19.0, 3538944, 4)\n",
      "(linking_edges, cut_edges, sf, orbitsize[pi]) = (2450, 26.0, 55296, 8)\n",
      "(linking_edges, cut_edges, sf, orbitsize[pi]) = (3000, 25.0, 110592, 8)\n",
      "(linking_edges, cut_edges, sf, orbitsize[pi]) = (1050, 22.0, 614400, 8)\n",
      "(linking_edges, cut_edges, sf, orbitsize[pi]) = (1080, 25.0, 110592, 8)\n",
      "(linking_edges, cut_edges, sf, orbitsize[pi]) = (2450, 26.0, 117504, 8)\n",
      "(linking_edges, cut_edges, sf, orbitsize[pi]) = (3000, 25.0, 110592, 8)\n",
      "(linking_edges, cut_edges, sf, orbitsize[pi]) = (3528, 27.0, 41472, 8)\n",
      "(linking_edges, cut_edges, sf, orbitsize[pi]) = (1470, 27.0, 36864, 8)\n",
      "(linking_edges, cut_edges, sf, orbitsize[pi]) = (1080, 25.0, 110592, 8)\n",
      "(linking_edges, cut_edges, sf, orbitsize[pi]) = (1512, 23.0, 368640, 8)\n",
      "2560000 / normalization = 0.07367567965814485\n"
     ]
    },
    {
     "data": {
      "text/plain": [
       "0.07367567965814485"
      ]
     },
     "metadata": {},
     "output_type": "display_data"
    }
   ],
   "source": [
    "node_to_district = Dict{Tuple{Vararg{String}}, Int}()\n",
    "\n",
    "normalization = 0\n",
    "for (pi,p) in enumerate(plans)\n",
    "    for ii = 1:length(p)\n",
    "        node_to_district[graph.id_to_partitions[1][ii]] = p[ii]\n",
    "    end\n",
    "    partition = MultiLevelPartition(graph2, node_to_district)\n",
    "    linking_edges = Int(round(exp(get_log_linking_edges(partition))))\n",
    "    sf = Int(round(exp(get_log_spanning_forests(partition))))\n",
    "    cut_edges = get_cut_edge_count(partition)\n",
    "    normalization += sf*orbitsize[pi]\n",
    "    @show linking_edges, cut_edges, sf, orbitsize[pi]\n",
    "end\n",
    "@show 2560000/normalization"
   ]
  },
  {
   "cell_type": "code",
   "execution_count": 42,
   "metadata": {},
   "outputs": [
    {
     "data": {
      "text/plain": [
       "0.27561116776451783"
      ]
     },
     "metadata": {},
     "output_type": "display_data"
    }
   ],
   "source": [
    "+2560000/(2560000+20736+9216+665856+20736+147456+147456+153600+147456+117504+82944+3538944+55296+110592+614400+110592+117504+110592+41472+36864+110592+368640)"
   ]
  }
 ],
 "metadata": {
  "kernelspec": {
   "display_name": "Julia 1.11.4",
   "language": "julia",
   "name": "julia-1.11"
  },
  "language_info": {
   "file_extension": ".jl",
   "mimetype": "application/julia",
   "name": "julia",
   "version": "1.11.4"
  }
 },
 "nbformat": 4,
 "nbformat_minor": 2
}
